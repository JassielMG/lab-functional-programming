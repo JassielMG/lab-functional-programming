{
 "cells": [
  {
   "cell_type": "markdown",
   "metadata": {},
   "source": [
    "In the cell below, create a Python function that wraps your previous solution for the Bag of Words lab.\n",
    "\n",
    "Requirements:\n",
    "\n",
    "1. Your function should accept the following parameters:\n",
    "    * `docs` [REQUIRED] - array of document paths.\n",
    "    * `stop_words` [OPTIONAL] - array of stop words. The default value is an empty array.\n",
    "\n",
    "1. Your function should return a Python object that contains the following:\n",
    "    * `bag_of_words` - array of strings of normalized unique words in the corpus.\n",
    "    * `term_freq` - array of the term-frequency vectors."
   ]
  },
  {
   "cell_type": "code",
   "execution_count": 124,
   "metadata": {},
   "outputs": [],
   "source": [
    "# Import required libraries\n",
    "import re\n",
    "\n",
    "# Define function\n",
    "def get_bow_from_docs(docs,stop_words=[]):\n",
    "    \n",
    "    # In the function, first define the variables you will use such as `corpus`, `bag_of_words`, and `term_freq`.\n",
    "    \n",
    "    corpus = []\n",
    "    bag_of_words=[]\n",
    "    term_freq=[]\n",
    "    \n",
    "    \n",
    "    \"\"\"\n",
    "    Loop `docs` and read the content of each doc into a string in `corpus`.\n",
    "    Remember to convert the doc content to lowercases and remove punctuation.\n",
    "    \"\"\"\n",
    "    \n",
    "    # Write your code here\n",
    "    path = '/home/jassielmg/Documents/lab_strings_operations/lab-string-operations/your-code/'\n",
    "\n",
    "    for archivo in docs:\n",
    "        with open(path+archivo, \"r\") as f:\n",
    "            lines = f.readlines()\n",
    "            for line in lines:\n",
    "                corpus.append(line)\n",
    "                \n",
    "                \n",
    "    corpus2=[]\n",
    "    for word in corpus:\n",
    "        w = word.lower()\n",
    "        w = w.replace('.','')\n",
    "        corpus2.append(w)\n",
    "    corpus = corpus2  \n",
    "      \n",
    "\n",
    "    \n",
    "    \n",
    "    \"\"\"\n",
    "    Loop `corpus`. Append the terms in each doc into the `bag_of_words` array. The terms in `bag_of_words` \n",
    "    should be unique which means before adding each term you need to check if it's already added to the array.\n",
    "    In addition, check if each term is in the `stop_words` array. Only append the term to `bag_of_words`\n",
    "    if it is not a stop word.    \"\"\"\n",
    "    \n",
    "    \n",
    "    break_array_strings = (' '.join(corpus)).split()\n",
    "\n",
    "\n",
    "    for word in break_array_strings:\n",
    "        if word not in bag_of_words:\n",
    "            bag_of_words.append(word)\n",
    "            \n",
    "    \n",
    "    for i in stop_words:\n",
    "        if i in bag_of_words:\n",
    "            bag_of_words.remove(i)\n",
    "            \n",
    "\n",
    "    for doc in corpus:\n",
    "        x=[]\n",
    "        for w in bag_of_words:\n",
    "\n",
    "            d = doc.split()\n",
    "            r = d.count(w)\n",
    "            x.append(r)\n",
    "        term_freq.append(x)   \n",
    "        \n",
    "        \n",
    "    \n",
    "            \n",
    "        \n",
    "\n",
    "    \n",
    "    \n",
    "    \n",
    "    \"\"\"\n",
    "    Loop `corpus` again. For each doc string, count the number of occurrences of each term in `bag_of_words`. \n",
    "    Create an array for each doc's term frequency and append it to `term_freq`.\"\"\"\n",
    "    \n",
    "     \n",
    "    \n",
    "\n",
    "    \n",
    "    \n",
    "    # Now return your output as an object\n",
    "    \n",
    "    return {'bag_of_words':bag_of_words,'term_freq':term_freq}\n",
    "    "
   ]
  },
  {
   "cell_type": "code",
   "execution_count": 125,
   "metadata": {},
   "outputs": [
    {
     "data": {
      "text/plain": [
       "{'bag_of_words': ['ironhack',\n",
       "  'is',\n",
       "  'cool',\n",
       "  'i',\n",
       "  'love',\n",
       "  'am',\n",
       "  'a',\n",
       "  'student',\n",
       "  'at'],\n",
       " 'term_freq': [[1, 1, 1, 0, 0, 0, 0, 0, 0],\n",
       "  [1, 0, 0, 1, 1, 0, 0, 0, 0],\n",
       "  [1, 0, 0, 1, 0, 1, 1, 1, 1]]}"
      ]
     },
     "execution_count": 125,
     "metadata": {},
     "output_type": "execute_result"
    }
   ],
   "source": [
    "docs= ['doc1.txt', 'doc2.txt', 'doc3.txt']\n",
    "\n",
    "\n",
    "              \n",
    "get_bow_from_docs(docs)"
   ]
  },
  {
   "cell_type": "markdown",
   "metadata": {},
   "source": [
    "Test your function without stop words. You should see the output like below:\n",
    "\n",
    "```{'bag_of_words': ['ironhack', 'is', 'cool', 'i', 'love', 'am', 'a', 'student', 'at'], 'term_freq': [[1, 1, 1, 0, 0, 0, 0, 0, 0], [1, 0, 0, 1, 1, 0, 0, 0, 0], [1, 0, 0, 1, 0, 1, 1, 1, 1]]}```"
   ]
  },
  {
   "cell_type": "code",
   "execution_count": 126,
   "metadata": {},
   "outputs": [
    {
     "name": "stdout",
     "output_type": "stream",
     "text": [
      "{'bag_of_words': ['ironhack', 'is', 'cool', 'i', 'love', 'am', 'a', 'student', 'at'], 'term_freq': [[1, 1, 1, 0, 0, 0, 0, 0, 0], [1, 0, 0, 1, 1, 0, 0, 0, 0], [1, 0, 0, 1, 0, 1, 1, 1, 1]]}\n"
     ]
    }
   ],
   "source": [
    "# Define doc paths array\n",
    "docs = ['doc1.txt', 'doc2.txt', 'doc3.txt']\n",
    "\n",
    "# Obtain BoW from your function\n",
    "bow = get_bow_from_docs(docs)\n",
    "\n",
    "# Print BoW\n",
    "print(bow)"
   ]
  },
  {
   "cell_type": "markdown",
   "metadata": {},
   "source": [
    "If your attempt above is successful, nice work done!\n",
    "\n",
    "Now test your function again with the stop words. In the previous lab we defined the stop words in a large array. In this lab, we'll import the stop words from Scikit-Learn."
   ]
  },
  {
   "cell_type": "code",
   "execution_count": 127,
   "metadata": {},
   "outputs": [
    {
     "name": "stdout",
     "output_type": "stream",
     "text": [
      "frozenset({'its', 'thereafter', 'four', 'together', 'seeming', 'ours', 'get', 'two', 'done', 'due', 'same', 'cant', 'of', 'will', 'system', 'between', 'serious', 'whenever', 'amoungst', 'take', 'twenty', 'where', 'un', 'someone', 'myself', 'thin', 'eg', 'find', 'towards', 'anything', 'somewhere', 'both', 'however', 'hers', 'his', 'out', 'whereafter', 'though', 'it', 'before', 'formerly', 'whither', 'all', 'onto', 'are', 'otherwise', 'go', 'put', 'nine', 'within', 'or', 'thence', 'would', 'around', 'anyway', 'as', 'anywhere', 'nothing', 'these', 'with', 'none', 'three', 'herself', 'inc', 'who', 'almost', 'per', 'you', 'seem', 'up', 'seems', 'so', 'thick', 'already', 'to', 'your', 'upon', 'is', 'might', 'do', 'while', 'any', 'top', 'eleven', 'becoming', 'thru', 'without', 'somehow', 'seemed', 'may', 'beside', 'why', 'indeed', 'wherein', 'couldnt', 'then', 'now', 'throughout', 'cry', 'always', 'moreover', 'also', 'either', 'becomes', 'were', 'noone', 'itself', 'last', 'side', 'himself', 'ltd', 'several', 'co', 'much', 'in', 'many', 'afterwards', 'fill', 'else', 'full', 'what', 'wherever', 'therein', 'and', 'him', 'became', 'fifteen', 'perhaps', 'whatever', 'whole', 'that', 'was', 'well', 'only', 'mill', 'themselves', 'alone', 'nor', 'nowhere', 'whether', 'via', 'everywhere', 'third', 'ie', 'he', 'see', 'sixty', 'everything', 'below', 'not', 'other', 'describe', 'each', 'next', 'give', 'please', 'elsewhere', 'therefore', 'six', 'part', 'could', 'there', 'the', 'eight', 'hereafter', 'am', 'my', 'until', 'made', 'whose', 'keep', 'if', 'herein', 'her', 'beforehand', 'over', 'hereby', 'than', 'something', 'call', 'thus', 'here', 'hundred', 'after', 'etc', 'off', 'few', 'have', 'move', 'they', 'less', 'a', 'twelve', 'sometimes', 'us', 'from', 'yourself', 'still', 'every', 'during', 'yourselves', 'hereupon', 'whence', 'name', 'neither', 'against', 'above', 'more', 'being', 'nobody', 'sincere', 'fifty', 'but', 'at', 'hasnt', 'con', 'latter', 'nevertheless', 'ever', 'thereupon', 'me', 'under', 'must', 'others', 'by', 'them', 'along', 'bottom', 'ourselves', 'such', 'this', 'toward', 'our', 'very', 'back', 'too', 'yours', 'enough', 'some', 'amount', 'meanwhile', 'she', 'no', 'an', 'their', 'least', 'behind', 'never', 'been', 'interest', 'for', 'ten', 'de', 'on', 'we', 'sometime', 're', 'empty', 'latterly', 'whereas', 'should', 'another', 'further', 'forty', 'rather', 'mostly', 'whom', 'when', 'one', 'beyond', 'fire', 'found', 'how', 'become', 'besides', 'into', 'first', 'hence', 'about', 'own', 'five', 'show', 'yet', 'has', 'although', 'cannot', 'once', 'across', 'amongst', 'thereby', 'down', 'among', 'anyhow', 'whereupon', 'be', 'through', 'those', 'i', 'detail', 'everyone', 'namely', 'often', 'had', 'because', 'front', 'except', 'whoever', 'most', 'mine', 'can', 'whereby', 'even', 'former', 'since', 'which', 'bill', 'anyone', 'again'})\n"
     ]
    }
   ],
   "source": [
    "from sklearn.feature_extraction import _stop_words\n",
    "print(_stop_words.ENGLISH_STOP_WORDS)"
   ]
  },
  {
   "cell_type": "markdown",
   "metadata": {},
   "source": [
    "You should have seen a large list of words that looks like:\n",
    "\n",
    "```frozenset({'across', 'mine', 'cannot', ...})```\n",
    "\n",
    "`frozenset` is a type of Python object that is immutable. In this lab you can use it just like an array without conversion."
   ]
  },
  {
   "cell_type": "markdown",
   "metadata": {},
   "source": [
    "Next, test your function with supplying `stop_words.ENGLISH_STOP_WORDS` as the second parameter."
   ]
  },
  {
   "cell_type": "code",
   "execution_count": 129,
   "metadata": {},
   "outputs": [
    {
     "name": "stdout",
     "output_type": "stream",
     "text": [
      "{'bag_of_words': ['ironhack', 'cool', 'love', 'student'], 'term_freq': [[1, 1, 0, 0], [1, 0, 1, 0], [1, 0, 0, 1]]}\n"
     ]
    }
   ],
   "source": [
    "bow = get_bow_from_docs(docs,_stop_words.ENGLISH_STOP_WORDS)\n",
    "\n",
    "print(bow)"
   ]
  },
  {
   "cell_type": "markdown",
   "metadata": {},
   "source": [
    "You should have seen:\n",
    "\n",
    "```{'bag_of_words': ['ironhack', 'cool', 'love', 'student'], 'term_freq': [[1, 1, 0, 0], [1, 0, 1, 0], [1, 0, 0, 1]]}```"
   ]
  }
 ],
 "metadata": {
  "kernelspec": {
   "display_name": "Python 3",
   "language": "python",
   "name": "python3"
  },
  "language_info": {
   "codemirror_mode": {
    "name": "ipython",
    "version": 3
   },
   "file_extension": ".py",
   "mimetype": "text/x-python",
   "name": "python",
   "nbconvert_exporter": "python",
   "pygments_lexer": "ipython3",
   "version": "3.9.5"
  }
 },
 "nbformat": 4,
 "nbformat_minor": 2
}
