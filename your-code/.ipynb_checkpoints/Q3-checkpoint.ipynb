{
 "cells": [
  {
   "cell_type": "markdown",
   "metadata": {},
   "source": [
    "**Lambda** is a special Python function type that is **anonymous**. By *anonymous* it means a lambda function does not have name. Lambda functions are embedded inside codes so that you don't call them like calling regular Python functions.\n",
    "\n",
    "**`Map`** applies a function to all the items in an input list. The function that is applied can be a standard or a lambda function.\n",
    "\n",
    "For instance, below is an example of multiplying number tuples in a list:"
   ]
  },
  {
   "cell_type": "code",
   "execution_count": 6,
   "metadata": {},
   "outputs": [
    {
     "data": {
      "text/plain": [
       "(2, 12, 30)"
      ]
     },
     "execution_count": 6,
     "metadata": {},
     "output_type": "execute_result"
    }
   ],
   "source": [
    "items = [(1,2), (3,4), (5,6)]\n",
    "\n",
    "def multiply(num_tuple):\n",
    "    return num_tuple[0]*num_tuple[1]\n",
    "\n",
    "tuple(map(multiply, items)) #el map lo que hace es meter cada elemento de la lista en la funcion\n",
    "                           # como un cadenero en una discoteca se asegura cada persona (item) entre a la disco(funcion)"
   ]
  },
  {
   "cell_type": "markdown",
   "metadata": {},
   "source": [
    "...is the same as:"
   ]
  },
  {
   "cell_type": "code",
   "execution_count": 10,
   "metadata": {},
   "outputs": [
    {
     "data": {
      "text/plain": [
       "[2, 12, 30]"
      ]
     },
     "execution_count": 10,
     "metadata": {},
     "output_type": "execute_result"
    }
   ],
   "source": [
    "items = [(1,2), (3,4), (5,6)]\n",
    "list(map(lambda item: item[0]*item[1], items))"
   ]
  },
  {
   "cell_type": "markdown",
   "metadata": {},
   "source": [
    "Why do we sometimes use `lambda` and `map`? Because, as you see in the example above, they make your code really concise by combining 3 lines of code to 1 line.\n",
    "\n",
    "Besides `map`, there is also **`filter`** that selectively returns elements in an array according to whether you return `True`. There is also **`reduce`** that performs computation on a list of items then returns result.\n",
    "\n",
    "Here is a [good tutorial](http://book.pythontips.com/en/latest/map_filter.html) about `map`, `filter`, and `reduce`. Read it if you are not familiar with how they are used. Then proceed to the next cell."
   ]
  },
  {
   "cell_type": "markdown",
   "metadata": {},
   "source": [
    "In the next cell, use `filter` and `lambda` to return a list that contains positive numbers only. The output should be:\n",
    "\n",
    "```[1, 4, 5]```"
   ]
  },
  {
   "cell_type": "code",
   "execution_count": 17,
   "metadata": {},
   "outputs": [
    {
     "data": {
      "text/plain": [
       "[1, 4, 5]"
      ]
     },
     "execution_count": 17,
     "metadata": {},
     "output_type": "execute_result"
    }
   ],
   "source": [
    "numbers = [1, 4, -1, -100, 0, 5, -99]\n",
    "\n",
    "# Enter your code below\n",
    "list(filter(lambda x: x > 0, numbers))"
   ]
  },
  {
   "cell_type": "code",
   "execution_count": null,
   "metadata": {},
   "outputs": [],
   "source": []
  },
  {
   "cell_type": "code",
   "execution_count": 20,
   "metadata": {},
   "outputs": [
    {
     "data": {
      "text/plain": [
       "24"
      ]
     },
     "execution_count": 20,
     "metadata": {},
     "output_type": "execute_result"
    }
   ],
   "source": [
    "from functools import reduce\n",
    "product = reduce((lambda x, y: x * y), [1, 2, 3, 4])\n",
    "product"
   ]
  },
  {
   "cell_type": "code",
   "execution_count": null,
   "metadata": {},
   "outputs": [],
   "source": [
    "list(filter(lambda x: x > 0, numbers))"
   ]
  },
  {
   "cell_type": "code",
   "execution_count": 18,
   "metadata": {},
   "outputs": [
    {
     "name": "stdout",
     "output_type": "stream",
     "text": [
      "[21, 19]\n"
     ]
    }
   ],
   "source": [
    "# otros ejemplos\n",
    "listA = [11, 30, 21, 19, 10, 29, 46]\n",
    "\n",
    "listOutput = list(filter(lambda x: x > 11 and x < 22, listA))\n",
    "print(listOutput)"
   ]
  },
  {
   "cell_type": "code",
   "execution_count": 9,
   "metadata": {},
   "outputs": [
    {
     "data": {
      "text/plain": [
       "<function __main__.<lambda>(n)>"
      ]
     },
     "execution_count": 9,
     "metadata": {},
     "output_type": "execute_result"
    }
   ],
   "source": [
    "n= [1, 4, -1, -100, 0, 5, -99]\n",
    "lambda n: n**2 if n%2 == 0 else n**3"
   ]
  },
  {
   "cell_type": "markdown",
   "metadata": {},
   "source": [
    "Next, use `reduce` and `lambda` to return a string that only contains English terms. The English terms are separated with a whitespace ` `.\n",
    "\n",
    "Hints: \n",
    "\n",
    "* If your Jupyter Notebook cannot import `langdetect`, you need to install it with `pip install langdetect`. If Jupyter Notebook still cannot find the library, try install with `python3 -m pip install langdetect`. This is because you need to install `langdetect` in the same Python run environment where Jupyter Notebook is running.\n",
    "\n",
    "* If a word is English, `langdetect.detect(word)=='en'` will return `True`.\n",
    "\n",
    "Your output should read:\n",
    "\n",
    "```'good morning everyone'```"
   ]
  },
  {
   "cell_type": "code",
   "execution_count": 39,
   "metadata": {},
   "outputs": [
    {
     "data": {
      "text/plain": [
       "'good morning everyone'"
      ]
     },
     "execution_count": 39,
     "metadata": {},
     "output_type": "execute_result"
    }
   ],
   "source": [
    "import langdetect\n",
    "from functools import reduce\n",
    "words = ['good morning', '早上好', 'доброго', 'おはようございます', 'everyone', '大家', 'каждый', 'みんな']\n",
    "\n",
    "\n",
    "# Enter your code below\n",
    "' '.join(list(filter((lambda x: langdetect.detect(x)=='en'),words)))"
   ]
  },
  {
   "cell_type": "code",
   "execution_count": 71,
   "metadata": {},
   "outputs": [
    {
     "data": {
      "text/plain": [
       "'good morning everyone'"
      ]
     },
     "execution_count": 71,
     "metadata": {},
     "output_type": "execute_result"
    }
   ],
   "source": [
    "words_en = filter((lambda x: langdetect.detect(x)=='en'),words)\n",
    "\n",
    "reduce(lambda a,b: a+' '+b,words_en)"
   ]
  },
  {
   "cell_type": "code",
   "execution_count": 72,
   "metadata": {},
   "outputs": [
    {
     "data": {
      "text/plain": [
       "'good morning everyone'"
      ]
     },
     "execution_count": 72,
     "metadata": {},
     "output_type": "execute_result"
    }
   ],
   "source": [
    "reduce(lambda a,b: a+' '+b,filter((lambda x: langdetect.detect(x)=='en'),(words)))"
   ]
  },
  {
   "cell_type": "markdown",
   "metadata": {},
   "source": [
    "# Bonus Question"
   ]
  },
  {
   "cell_type": "markdown",
   "metadata": {},
   "source": [
    "Finally, if you still have time, convert your response in Q2 by using `lambda`, `map`, `filter`, or `reduce` where applicable. Enter your function in the cell below.\n",
    "\n",
    "As you write Python functions, generally you don't want to make your function too long. Long functions are difficult to read and difficult to debug. If a function is getting too long, consider breaking it into sever shorter functions where the main function calls other functions. If anything goes wrong, you can output debug messages in each of the functions to check where exactly the error is."
   ]
  },
  {
   "cell_type": "code",
   "execution_count": 74,
   "metadata": {},
   "outputs": [
    {
     "name": "stdout",
     "output_type": "stream",
     "text": [
      "['Ironhack is cool.', 'I love Ironhack.', 'I am a student at Ironhack.']\n",
      "['ironhack is cool', 'i love ironhack', 'i am a student at ironhack']\n",
      "['ironhack', 'is', 'cool', 'i', 'love', 'am', 'a', 'student', 'at']\n"
     ]
    }
   ],
   "source": [
    "# Enter your code below\n",
    "\n",
    "import re\n",
    "import os\n",
    "path = '/home/jassielmg/Documents/lab_strings_operations/lab-string-operations/your-code/'\n",
    "docs=['doc1.txt', 'doc2.txt', 'doc3.txt']\n",
    "\n",
    "def extrac_corpus(path,docs):\n",
    "    \n",
    "    corpus=[]\n",
    "\n",
    "    for archivo in docs:\n",
    "        with open(path+archivo, \"r\") as f:\n",
    "            lines = f.readlines()\n",
    "            for line in lines:\n",
    "                corpus.append(line)\n",
    "    return corpus\n",
    "\n",
    "def clean_corpus(corpus):\n",
    "    clean_corpus=[]\n",
    "    for word in corpus:\n",
    "        w = word.lower()\n",
    "        w = w.replace('.','')\n",
    "        clean_corpus.append(w)\n",
    "    return clean_corpus\n",
    "\n",
    "\n",
    "def get_bag_of_words(corpus):\n",
    "    break_array_strings = (' '.join(corpus)).split()\n",
    "    bag_of_words = []\n",
    "    \n",
    "\n",
    "\n",
    "    for word in break_array_strings:\n",
    "        if word not in bag_of_words:\n",
    "            bag_of_words.append(word)\n",
    "            \n",
    "    \n",
    "    \n",
    "          \n",
    "            \n",
    "    return bag_of_words\n",
    "\n",
    "corpus = extrac_corpus(path,docs)\n",
    "print(corpus)\n",
    "corpus_clean = clean_corpus(corpus)\n",
    "print(corpus_clean)\n",
    "bag = get_bag_of_words(corpus_clean)\n",
    "print(bag)"
   ]
  },
  {
   "cell_type": "code",
   "execution_count": 88,
   "metadata": {},
   "outputs": [],
   "source": [
    "path = '/home/jassielmg/Documents/lab_strings_operations/lab-string-operations/your-code/'\n",
    "docs=['doc1.txt', 'doc2.txt', 'doc3.txt']\n",
    "\n",
    "def get_bow_from_docs(docs, stop_words):\n",
    "    # In the function, first define the variables you will use such as `corpus`, `bag_of_words`, and `term_freq`.\n",
    "    corpus = []\n",
    "    bag_of_words = []\n",
    "    term_freq = []\n",
    "    \n",
    "    # write your codes here\n",
    "    \n",
    "    corpus_dirty = extrac_corpus(path,docs)\n",
    "    corpus_clean = clean_corpus(corpus_dirty)      \n",
    "    corpus.append(corpus_clean)\n",
    "    \n",
    "    get_bag = get_bag_of_words(corpus[0])\n",
    "    bag_of_words.append(get_bag)\n",
    "    \n",
    "    \n",
    "    for i in stop_words:\n",
    "        if i in bag_of_words[0]:\n",
    "            bag_of_words[0].remove(i)\n",
    "    \n",
    "            \n",
    "\n",
    "    for doc in corpus[0]:\n",
    "        x=[]\n",
    "        for w in bag_of_words[0]:\n",
    "            d = doc.split()\n",
    "            count_word = d.count(w)\n",
    "            x.append(count_word)\n",
    "            \n",
    "        term_freq.append(x)  \n",
    "    \n",
    "    return {\n",
    "        \"bag_of_words\": bag_of_words,\n",
    "        \"term_freq\": term_freq}\n",
    "    "
   ]
  },
  {
   "cell_type": "markdown",
   "metadata": {},
   "source": [
    "Test your function below with the Bag of Words lab docs (it's easier for you to debug your code). Your output should be:\n",
    "\n",
    "```{'bag_of_words': ['ironhack', 'cool', 'love', 'student'], 'term_freq': [[1, 1, 0, 0], [1, 0, 1, 0], [1, 0, 0, 1]]}```"
   ]
  },
  {
   "cell_type": "code",
   "execution_count": 89,
   "metadata": {},
   "outputs": [
    {
     "name": "stdout",
     "output_type": "stream",
     "text": [
      "{'bag_of_words': [['ironhack', 'cool', 'love', 'student']], 'term_freq': [[1, 1, 0, 0], [1, 0, 1, 0], [1, 0, 0, 1]]}\n"
     ]
    }
   ],
   "source": [
    "from sklearn.feature_extraction import _stop_words\n",
    "stop_words = ['all', 'six', 'less', 'being', 'indeed', 'over', 'move', 'anyway', 'fifty', 'four', 'not', 'own', 'through', 'yourselves', 'go', 'where', 'mill', 'only', 'find', 'before', 'one', 'whose', 'system', 'how', 'somewhere', 'with', 'thick', 'show', 'had', 'enough', 'should', 'to', 'must', 'whom', 'seeming', 'under', 'ours', 'has', 'might', 'thereafter', 'latterly', 'do', 'them', 'his', 'around', 'than', 'get', 'very', 'de', 'none', 'cannot', 'every', 'whether', 'they', 'front', 'during', 'thus', 'now', 'him', 'nor', 'name', 'several', 'hereafter', 'always', 'who', 'cry', 'whither', 'this', 'someone', 'either', 'each', 'become', 'thereupon', 'sometime', 'side', 'two', 'therein', 'twelve', 'because', 'often', 'ten', 'our', 'eg', 'some', 'back', 'up', 'namely', 'towards', 'are', 'further', 'beyond', 'ourselves', 'yet', 'out', 'even', 'will', 'what', 'still', 'for', 'bottom', 'mine', 'since', 'please', 'forty', 'per', 'its', 'everything', 'behind', 'un', 'above', 'between', 'it', 'neither', 'seemed', 'ever', 'across', 'she', 'somehow', 'be', 'we', 'full', 'never', 'sixty', 'however', 'here', 'otherwise', 'were', 'whereupon', 'nowhere', 'although', 'found', 'alone', 're', 'along', 'fifteen', 'by', 'both', 'about', 'last', 'would', 'anything', 'via', 'many', 'could', 'thence', 'put', 'against', 'keep', 'etc', 'amount', 'became', 'ltd', 'hence', 'onto', 'or', 'con', 'among', 'already', 'co', 'afterwards', 'formerly', 'within', 'seems', 'into', 'others', 'while', 'whatever', 'except', 'down', 'hers', 'everyone', 'done', 'least', 'another', 'whoever', 'moreover', 'couldnt', 'throughout', 'anyhow', 'yourself', 'three', 'from', 'her', 'few', 'together', 'top', 'there', 'due', 'been', 'next', 'anyone', 'eleven', 'much', 'call', 'therefore', 'interest', 'then', 'thru', 'themselves', 'hundred', 'was', 'sincere', 'empty', 'more', 'himself', 'elsewhere', 'mostly', 'on', 'fire', 'am', 'becoming', 'hereby', 'amongst', 'else', 'part', 'everywhere', 'too', 'herself', 'former', 'those', 'he', 'me', 'myself', 'made', 'twenty', 'these', 'bill', 'cant', 'us', 'until', 'besides', 'nevertheless', 'below', 'anywhere', 'nine', 'can', 'of', 'your', 'toward', 'my', 'something', 'and', 'whereafter', 'whenever', 'give', 'almost', 'wherever', 'is', 'describe', 'beforehand', 'herein', 'an', 'as', 'itself', 'at', 'have', 'in', 'seem', 'whence', 'ie', 'any', 'fill', 'again', 'hasnt', 'inc', 'thereby', 'thin', 'no', 'perhaps', 'latter', 'meanwhile', 'when', 'detail', 'same', 'wherein', 'beside', 'also', 'that', 'other', 'take', 'which', 'becomes', 'you', 'if', 'nobody', 'see', 'though', 'may', 'after', 'upon', 'most', 'hereupon', 'eight', 'but', 'serious', 'nothing', 'such', 'why', 'a', 'off', 'whereby', 'third', 'i', 'whole', 'noone', 'sometimes', 'well', 'amoungst', 'yours', 'their', 'rather', 'without', 'so', 'five', 'the', 'first', 'whereas', 'once']\n",
    "\n",
    "bow = get_bow_from_docs(['doc1.txt', 'doc2.txt', 'doc3.txt'],\n",
    "    stop_words\n",
    ")\n",
    "\n",
    "print(bow)"
   ]
  },
  {
   "cell_type": "code",
   "execution_count": null,
   "metadata": {},
   "outputs": [],
   "source": []
  }
 ],
 "metadata": {
  "kernelspec": {
   "display_name": "Python 3",
   "language": "python",
   "name": "python3"
  },
  "language_info": {
   "codemirror_mode": {
    "name": "ipython",
    "version": 3
   },
   "file_extension": ".py",
   "mimetype": "text/x-python",
   "name": "python",
   "nbconvert_exporter": "python",
   "pygments_lexer": "ipython3",
   "version": "3.9.5"
  }
 },
 "nbformat": 4,
 "nbformat_minor": 2
}
