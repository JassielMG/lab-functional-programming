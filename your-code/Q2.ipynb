{
 "cells": [
  {
   "cell_type": "markdown",
   "metadata": {},
   "source": [
    "Now we want to enhance the `get_bow_from_docs` function so that it will work with HTML webpages. In HTML, there are a lot of messy codes such as HTML tags, Javascripts, [unicodes](https://www.w3schools.com/charsets/ref_utf_misc_symbols.asp) that will mess up your bag of words. We need to clean up those junk before generating BoW.\n",
    "\n",
    "Next, what you will do is to define several new functions each of which is specialized to clean up the HTML codes in one aspect. For instance, you can have a `strip_html_tags` function to remove all HTML tags, a `remove_punctuation` function to remove all punctuation, a `to_lower_case` function to convert string to lowercase, and a `remove_unicode` function to remove all unicodes.\n",
    "\n",
    "Then in your `get_bow_from_doc` function, you will call each of those functions you created to clean up the HTML before you generate the corpus.\n",
    "\n",
    "Note: Please use Python string operations and regular expression only in this lab. Do not use extra libraries such as `beautifulsoup` because otherwise you loose the purpose of practicing."
   ]
  },
  {
   "cell_type": "code",
   "execution_count": 60,
   "metadata": {},
   "outputs": [
    {
     "name": "stdout",
     "output_type": "stream",
     "text": [
      "['Ironhack is cool.', 'I love Ironhack.', 'I am a student at Ironhack.']\n",
      "['ironhack is cool', 'i love ironhack', 'i am a student at ironhack']\n",
      "['ironhack', 'is', 'cool', 'i', 'love', 'am', 'a', 'student', 'at']\n"
     ]
    }
   ],
   "source": [
    "# Dine your string handliefng functions below\n",
    "# Minimal 3 functions\n",
    "\n",
    "import re\n",
    "import os\n",
    "path = '/home/jassielmg/Documents/lab_strings_operations/lab-string-operations/your-code/'\n",
    "docs=['doc1.txt', 'doc2.txt', 'doc3.txt']\n",
    "\n",
    "def extrac_corpus(path,docs):\n",
    "    \n",
    "    corpus=[]\n",
    "\n",
    "    for archivo in docs:\n",
    "        with open(path+archivo, \"r\") as f:\n",
    "            lines = f.readlines()\n",
    "            for line in lines:\n",
    "                corpus.append(line)\n",
    "    return corpus\n",
    "\n",
    "def clean_corpus(corpus):\n",
    "    clean_corpus=[]\n",
    "    for word in corpus:\n",
    "        w = word.lower()\n",
    "        w = w.replace('.','')\n",
    "        clean_corpus.append(w)\n",
    "    return clean_corpus\n",
    "\n",
    "\n",
    "def get_bag_of_words(corpus):\n",
    "    break_array_strings = (' '.join(corpus)).split()\n",
    "    bag_of_words = []\n",
    "    \n",
    "\n",
    "\n",
    "    for word in break_array_strings:\n",
    "        if word not in bag_of_words:\n",
    "            bag_of_words.append(word)\n",
    "            \n",
    "    #bag_of_words = ''.join(bag_of_words).lower()\n",
    "    #s = re.sub('.','',bag_of_words)\n",
    "    \n",
    "          \n",
    "            \n",
    "    return bag_of_words\n",
    "\n",
    "corpus = extrac_corpus(path,docs)\n",
    "print(corpus)\n",
    "corpus_clean = clean_corpus(corpus)\n",
    "print(corpus_clean)\n",
    "bag = get_bag_of_words(corpus_clean)\n",
    "print(bag)"
   ]
  },
  {
   "cell_type": "code",
   "execution_count": 18,
   "metadata": {},
   "outputs": [
    {
     "data": {
      "text/plain": [
       "['Ironhack is cool.', 'I love Ironhack.', 'I am a student at Ironhack.']"
      ]
     },
     "execution_count": 18,
     "metadata": {},
     "output_type": "execute_result"
    }
   ],
   "source": [
    "corpus"
   ]
  },
  {
   "cell_type": "markdown",
   "metadata": {},
   "source": [
    "Next, paste your previously written `get_bow_from_docs` function below. Call your functions above at the appropriate place."
   ]
  },
  {
   "cell_type": "code",
   "execution_count": 63,
   "metadata": {},
   "outputs": [],
   "source": [
    "path = '/home/jassielmg/Documents/lab_strings_operations/lab-string-operations/your-code/'\n",
    "docs=['doc1.txt', 'doc2.txt', 'doc3.txt']\n",
    "\n",
    "def get_bow_from_docs(docs, stop_words=[]):\n",
    "    # In the function, first define the variables you will use such as `corpus`, `bag_of_words`, and `term_freq`.\n",
    "    corpus = []\n",
    "    bag_of_words = []\n",
    "    term_freq = []\n",
    "    \n",
    "    # write your codes here\n",
    "    \n",
    "    corpus_dirty = extrac_corpus(path,docs)\n",
    "    corpus_clean = clean_corpus(corpus_dirty)    \n",
    "    corpus.append(corpus_clean)\n",
    "    \n",
    "    get_bag=get_bag_of_words(corpus[0])\n",
    "    bag_of_words.append(get_bag)\n",
    "    \n",
    "    for i in stop_words:\n",
    "        if i in bag_of_words:\n",
    "            bag_of_words.remove(i)\n",
    "            \n",
    "\n",
    "    for doc in corpus[0]:\n",
    "        x=[]\n",
    "        for w in bag_of_words[0]:\n",
    "            d = doc.split()\n",
    "            count_word = d.count(w)\n",
    "            x.append(count_word)\n",
    "            \n",
    "        term_freq.append(x)  \n",
    "    \n",
    "    return {\n",
    "        \"bag_of_words\": bag_of_words,\n",
    "        \"term_freq\": term_freq}\n",
    "    "
   ]
  },
  {
   "cell_type": "code",
   "execution_count": 64,
   "metadata": {},
   "outputs": [
    {
     "data": {
      "text/plain": [
       "{'bag_of_words': [['ironhack',\n",
       "   'is',\n",
       "   'cool',\n",
       "   'i',\n",
       "   'love',\n",
       "   'am',\n",
       "   'a',\n",
       "   'student',\n",
       "   'at']],\n",
       " 'term_freq': [[1, 1, 1, 0, 0, 0, 0, 0, 0],\n",
       "  [1, 0, 0, 1, 1, 0, 0, 0, 0],\n",
       "  [1, 0, 0, 1, 0, 1, 1, 1, 1]]}"
      ]
     },
     "execution_count": 64,
     "metadata": {},
     "output_type": "execute_result"
    }
   ],
   "source": [
    "get_bow_from_docs(docs, stop_words=[])"
   ]
  },
  {
   "cell_type": "markdown",
   "metadata": {},
   "source": [
    "Next, read the content from the three HTML webpages in the `your-codes` directory to test your function."
   ]
  },
  {
   "cell_type": "code",
   "execution_count": 162,
   "metadata": {},
   "outputs": [
    {
     "name": "stdout",
     "output_type": "stream",
     "text": [
      "{'bag_of_words': ['www', 'coursereport', 'com', 'ironhack', 'html', 'en', 'wikipedia', 'org', 'data', 'analysis', 'lipsum'], 'term_freq': [[1, 1, 1, 1, 1, 0, 0, 0, 0, 0, 0], [0, 0, 0, 0, 1, 1, 1, 1, 1, 1, 0], [1, 0, 1, 0, 1, 0, 0, 0, 0, 0, 1]]}\n"
     ]
    }
   ],
   "source": [
    "from sklearn.feature_extraction import _stop_words\n",
    "\n",
    "bow = get_bow_from_docs([\n",
    "        'www.coursereport.com_ironhack.html',\n",
    "        'en.wikipedia.org_Data_analysis.html',\n",
    "        'www.lipsum.com.html'\n",
    "    ],\n",
    "    _stop_words.ENGLISH_STOP_WORDS\n",
    ")\n",
    "\n",
    "print(bow)"
   ]
  },
  {
   "cell_type": "markdown",
   "metadata": {},
   "source": [
    "Do you see any problem in the output? How do you improve the output?\n",
    "\n",
    "A good way to improve your codes is to look into the HTML data sources and try to understand where the messy output came from. A good data analyst always learns about the data in depth in order to perform the job well.\n",
    "\n",
    "Spend 20-30 minutes to improve your functions or until you feel you are good at string operations. This lab is just a practice so you don't need to stress yourself out. If you feel you've practiced enough you can stop and move on the next challenge question."
   ]
  },
  {
   "cell_type": "code",
   "execution_count": 159,
   "metadata": {},
   "outputs": [],
   "source": [
    "import re\n",
    "def get_bow_from_docs(links,stop_words=[]):\n",
    "    corpus_clean=[]\n",
    "    bag_of_words=[]\n",
    "    term_freq=[]\n",
    "    for link in links:\n",
    "        l = re.sub('[.|_]',' ',link)\n",
    "        l = l.lower().split()\n",
    "        corpus_clean.append(l)\n",
    "        \n",
    "        for i in l:\n",
    "            if i not in bag_of_words:\n",
    "                bag_of_words.append(i)\n",
    "    \n",
    "    for i in stop_words:\n",
    "        if i in bag_of_words:\n",
    "            bag_of_words.remove(i)\n",
    "    \n",
    "    for c in corpus_clean:\n",
    "        freq=[]\n",
    "        for w in bag_of_words:\n",
    "            freq.append(c.count(w))\n",
    "        term_freq.append(freq)         \n",
    "    \n",
    "                \n",
    "            \n",
    "        \n",
    "    \n",
    "    \n",
    "        \n",
    "    \n",
    "            \n",
    "    \n",
    "    return {\n",
    "        \"bag_of_words\": bag_of_words,\n",
    "        \"term_freq\": term_freq}\n",
    "        \n",
    "    "
   ]
  },
  {
   "cell_type": "code",
   "execution_count": 160,
   "metadata": {},
   "outputs": [
    {
     "data": {
      "text/plain": [
       "{'bag_of_words': ['www',\n",
       "  'coursereport',\n",
       "  'com',\n",
       "  'ironhack',\n",
       "  'html',\n",
       "  'en',\n",
       "  'wikipedia',\n",
       "  'org',\n",
       "  'data',\n",
       "  'analysis',\n",
       "  'lipsum'],\n",
       " 'term_freq': [[1, 1, 1, 1, 1, 0, 0, 0, 0, 0, 0],\n",
       "  [0, 0, 0, 0, 1, 1, 1, 1, 1, 1, 0],\n",
       "  [1, 0, 1, 0, 1, 0, 0, 0, 0, 0, 1]]}"
      ]
     },
     "execution_count": 160,
     "metadata": {},
     "output_type": "execute_result"
    }
   ],
   "source": [
    "get_bow_from_docs([\n",
    "        'www.coursereport.com_ironhack.html',\n",
    "        'en.wikipedia.org_Data_analysis.html',\n",
    "        'www.lipsum.com.html'],_stop_words.ENGLISH_STOP_WORDS)"
   ]
  },
  {
   "cell_type": "code",
   "execution_count": null,
   "metadata": {},
   "outputs": [],
   "source": []
  }
 ],
 "metadata": {
  "kernelspec": {
   "display_name": "Python 3",
   "language": "python",
   "name": "python3"
  },
  "language_info": {
   "codemirror_mode": {
    "name": "ipython",
    "version": 3
   },
   "file_extension": ".py",
   "mimetype": "text/x-python",
   "name": "python",
   "nbconvert_exporter": "python",
   "pygments_lexer": "ipython3",
   "version": "3.9.5"
  }
 },
 "nbformat": 4,
 "nbformat_minor": 2
}
